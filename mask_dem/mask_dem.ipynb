{
 "cells": [
  {
   "cell_type": "code",
   "execution_count": 1,
   "id": "af3433b1-40f6-4aaf-88db-b5430b3d22b4",
   "metadata": {},
   "outputs": [
    {
     "name": "stdout",
     "output_type": "stream",
     "text": [
      "Authenticated using refresh token.\n"
     ]
    }
   ],
   "source": [
    "# import libraries\n",
    "\n",
    "import openeo\n",
    "import folium\n",
    "import json\n",
    "import shapely.geometry\n",
    "from openeo.processes import ProcessBuilder\n",
    "import os\n",
    "\n",
    "\n",
    "# connect to openeo\n",
    "conn = openeo.connect(\"https://openeo.vito.be\").authenticate_oidc()\n",
    "\n",
    "# out dir\n",
    "outdir = \"./input\"\n",
    "\n",
    "# aoi\n",
    "aoi = json.load(open('input/senales.geojson'))\n",
    "\n",
    "# check the aoi\n",
    "region = aoi['features'][0]['geometry']\n",
    "geom = shapely.geometry.shape(region)\n",
    "centroid = geom.centroid\n",
    "center_latlon = [centroid.y, centroid.x]\n",
    "\n",
    "m = folium.Map(location=center_latlon, zoom_start=9)\n",
    "\n",
    "folium.GeoJson(aoi).add_to(m)\n",
    "m\n",
    "\n",
    "# define time period\n",
    "time_period = ['2024-04-02', '2024-04-02']"
   ]
  },
  {
   "cell_type": "code",
   "execution_count": 2,
   "id": "85b4c760-af4b-4d94-b25d-dced7b8244fd",
   "metadata": {},
   "outputs": [],
   "source": [
    "s2 = conn.load_collection(\n",
    "    'SENTINEL2_L1C',\n",
    "    spatial_extent=region,\n",
    "    temporal_extent=time_period,\n",
    "    bands=[\"B02\", \"B03\", \"B04\", \"B08\", \"B11\"])\n",
    " \n",
    "s2_L2A = conn.load_collection(\n",
    "    'SENTINEL2_L2A',\n",
    "    spatial_extent=region,\n",
    "    temporal_extent=time_period,\n",
    "    bands=['SCL'])\n",
    "\n",
    "worldcover = conn.load_collection(\n",
    "    'ESA_WORLDCOVER_10M_2021_V2',\n",
    "    spatial_extent=region,\n",
    "    bands=['MAP']).resample_spatial(projection=32632)\n",
    "\n",
    "dem = conn.load_collection(\n",
    "    \"COPERNICUS_30\",\n",
    "    spatial_extent=region,\n",
    "    bands=[\"DEM\"]).resample_spatial(projection=32632)\n",
    "\n",
    "water_mask = (worldcover == 80).reduce_dimension(dimension=\"t\", reducer=\"mean\")\n",
    "\n",
    "s2 = s2.merge_cubes(s2_L2A).merge_cubes(water_mask)\n",
    "\n",
    "green = s2.band(\"B03\")\n",
    "swir = s2.band(\"B11\")\n",
    "nir = s2.band(\"B08\")\n",
    "scl = s2.band(\"SCL\")\n",
    "water = s2.band(\"MAP\")\n",
    "\n",
    "# NDSI\n",
    "ndsi = (green - swir) / (green + swir)\n",
    "\n",
    "# cloud mask\n",
    "cloud_mask = ( (scl == 8) | (scl == 9) | (scl == 3) | (scl == 10) ) * 1.0 # times one forces to binary\n"
   ]
  },
  {
   "cell_type": "code",
   "execution_count": 3,
   "id": "63732486-c72d-4d94-b5b2-306abe6a0aa2",
   "metadata": {},
   "outputs": [],
   "source": [
    "valid_mask = (~cloud_mask) & (water !=1)"
   ]
  },
  {
   "cell_type": "code",
   "execution_count": 4,
   "id": "75e3f9b5-ccd2-4250-b34b-445ba06b3803",
   "metadata": {},
   "outputs": [],
   "source": [
    "# valid_mask.download(os.path.join(outdir,'valid_mask.nc'))"
   ]
  },
  {
   "cell_type": "code",
   "execution_count": 5,
   "id": "c52a5962-a141-4b24-8043-dc22a6fba4b6",
   "metadata": {},
   "outputs": [],
   "source": [
    "snow_sure = (ndsi > 0.6) & (nir > 0.45) & valid_mask\n",
    "no_snow_sure = (ndsi < 0) & valid_mask"
   ]
  },
  {
   "cell_type": "code",
   "execution_count": 6,
   "id": "888c97c9-0cc7-48b6-8099-0c7222a739e4",
   "metadata": {},
   "outputs": [],
   "source": [
    "# snow_sure.download(os.path.join(outdir,'snow_sure.nc'))\n",
    "# no_snow_sure.download(os.path.join(outdir,'no_snow_sure.nc'))"
   ]
  },
  {
   "cell_type": "code",
   "execution_count": 7,
   "id": "8ea229be-02f1-4a1c-b5c4-a1c7887a7edd",
   "metadata": {},
   "outputs": [],
   "source": [
    "# Combine to a snow_map: 0 = uncertain, 1 = sure no-snow, 2 = sure snow\n",
    "snow_map = snow_sure.multiply(2) + no_snow_sure.multiply(1)"
   ]
  },
  {
   "cell_type": "code",
   "execution_count": 8,
   "id": "54cecac3-540d-422e-81f8-f3ec03eebd47",
   "metadata": {},
   "outputs": [],
   "source": [
    "# snow_map.download(os.path.join(outdir,'snow_map.nc'))"
   ]
  },
  {
   "cell_type": "code",
   "execution_count": 11,
   "id": "fae78382-e504-4f10-9b59-1d4e036bdffd",
   "metadata": {},
   "outputs": [],
   "source": [
    "# # distance \n",
    "\n",
    "# distance_udf = openeo.UDF.from_file(\"distance_udf.py\")\n",
    "\n",
    "# distance = snow_sure.apply_neighborhood(process=distance_udf,\n",
    "#                                         size=[{\"dimension\": \"x\", \"value\": 512, \"unit\": \"px\"},\n",
    "#                                               {\"dimension\": \"y\", \"value\": 512, \"unit\": \"px\"},],\n",
    "#                                         overlap=[{\"dimension\": \"x\", \"value\": 256, \"unit\": \"px\"},\n",
    "#                                                  {\"dimension\": \"y\", \"value\": 256, \"unit\": \"px\"}]) "
   ]
  },
  {
   "cell_type": "code",
   "execution_count": 12,
   "id": "b8b73fc8-a0d5-4441-97a8-17c811460275",
   "metadata": {},
   "outputs": [],
   "source": [
    "# distance = distance.save_result(format=\"NetCDF\")\n",
    "# job = distance.create_job()\n",
    "# job.start_and_wait()\n",
    "# job.download_results(\"distance/\")"
   ]
  },
  {
   "cell_type": "code",
   "execution_count": 13,
   "id": "4bd01bb5-3143-4cce-9613-d09700358c0e",
   "metadata": {},
   "outputs": [],
   "source": [
    "# # normalize distance to range 0f 0-1\n",
    "# distance_min = distance.reduce_dimension(\"t\", reducer=\"min\")\n",
    "# distance_max = distance.reduce_dimension(\"t\", reducer=\"max\")\n",
    "\n",
    "# normalized_distance = (distance - distance_min) / (distance_max - distance_min)\n"
   ]
  },
  {
   "cell_type": "code",
   "execution_count": 14,
   "id": "21f11450-2f9f-491f-9177-fe5264629a39",
   "metadata": {},
   "outputs": [],
   "source": [
    "# # normalized_distance.download('input/normalized_distance.nc')\n",
    "# normalized_distance = normalized_distance.save_result(format=\"NetCDF\")\n",
    "# job = distance.create_job()\n",
    "# job.start_and_wait()\n",
    "# job.download_results(\"input/\")"
   ]
  },
  {
   "cell_type": "markdown",
   "id": "6a543bda-a5c4-4acf-8a1d-7f86ac3182db",
   "metadata": {},
   "source": [
    "Here I decided to switch to single date datacube instead of the month I previously had. Basically all the problems so far where because of the multiple time steps. And now the final straw was that masking the dem with snow_sure would require the dem also to have the same time steps as the snow_sure. I tried to add them but couldn't figure it out. So only one day now instead of multiple days."
   ]
  },
  {
   "cell_type": "markdown",
   "id": "96a53281-dc64-40c5-83b1-b9e11ae5cb22",
   "metadata": {},
   "source": [
    "#### mask dem with snow_sure"
   ]
  },
  {
   "cell_type": "code",
   "execution_count": 15,
   "id": "d5710289-fdc5-48af-b642-bef980b78972",
   "metadata": {},
   "outputs": [],
   "source": [
    "snow_mask = snow_sure.reduce_dimension(\"t\", reducer=\"mean\") # snowmap and dem have different time values in 't', so reduce 't'\n",
    "# snow_mask.download(os.path.join(outdir,'snowmask.nc'))"
   ]
  },
  {
   "cell_type": "code",
   "execution_count": 16,
   "id": "c4a6e738-abc9-4f45-b75d-6be5dda05efb",
   "metadata": {},
   "outputs": [],
   "source": [
    "dem = dem.reduce_dimension(dimension='t', reducer='mean')\n",
    "# dem.download(os.path.join(outdir,'dem.nc'))"
   ]
  },
  {
   "cell_type": "code",
   "execution_count": 17,
   "id": "95572573-fc05-4760-85cf-40bcb59d54de",
   "metadata": {},
   "outputs": [],
   "source": [
    "masked_dem = dem.mask(snow_sure==0) # get dem for confident snow areas only\n",
    "# masked_dem.download(os.path.join(outdir,'masked_dem.nc'))"
   ]
  },
  {
   "cell_type": "code",
   "execution_count": 18,
   "id": "baa7f9b4-99ca-451c-a9b4-4d42f568844f",
   "metadata": {},
   "outputs": [],
   "source": [
    "# print(masked_dem.metadata)"
   ]
  },
  {
   "cell_type": "markdown",
   "id": "cf351182-88c6-4a9a-a4d7-4b6e2174e276",
   "metadata": {},
   "source": [
    "#### combine snow_sure and dem to get altitude_mask"
   ]
  },
  {
   "cell_type": "code",
   "execution_count": 21,
   "id": "ab480f92-a829-4dba-b989-c440d70dec9f",
   "metadata": {},
   "outputs": [],
   "source": [
    "# snow_sure = snow_sure.add_dimension(name=\"bands\", label=\"snow_sure\", type=\"bands\")\n",
    "# dem = dem.rename_labels(\"bands\", [\"DEM\"]) \n",
    "# combined = dem.merge_cubes(snow_sure)\n",
    "\n",
    "# combined = dem.rename_labels(\"bands\", [\"DEM\"]).merge_cubes(\n",
    "#     masked_dem.rename_labels(\"bands\", [\"masked_DEM\"])\n",
    "# )\n"
   ]
  },
  {
   "cell_type": "code",
   "execution_count": 22,
   "id": "afb027fd-0224-4b4a-9dc2-b6d6ea893466",
   "metadata": {},
   "outputs": [
    {
     "name": "stdout",
     "output_type": "stream",
     "text": [
      "CollectionMetadata({'spatial': {'bbox': [[-180.0013889, -89.9998611, 179.9986111, 84.0001389]]}, 'temporal': {'interval': [['2010-12-12T00:00:00Z', None]]}} - ['DEM', 'snow_sure'] - ['bands', 't', 'x', 'y'])\n"
     ]
    }
   ],
   "source": [
    "# print(combined.metadata)"
   ]
  },
  {
   "cell_type": "code",
   "execution_count": 52,
   "id": "74c31f8d-cf4c-4973-aa59-2737bead68c5",
   "metadata": {},
   "outputs": [],
   "source": [
    "## this one runs but gives boxy look due to chunking\n",
    "\n",
    "# altitude_mask_udf = openeo.UDF.from_file(\"altitude_mask_udf.py\")\n",
    "\n",
    "# altitude_mask = combined.apply_neighborhood(process=altitude_mask_udf,\n",
    "#                                         size=[{\"dimension\": \"x\", \"value\": 256, \"unit\": \"px\"},\n",
    "#                                               {\"dimension\": \"y\", \"value\": 256, \"unit\": \"px\"},],\n",
    "#                                         overlap=[{\"dimension\": \"x\", \"value\": 128, \"unit\": \"px\"},\n",
    "#                                                  {\"dimension\": \"y\", \"value\": 128, \"unit\": \"px\"}])"
   ]
  },
  {
   "cell_type": "code",
   "execution_count": 53,
   "id": "c2849fcd-13b8-4828-9ab6-a4f66abcdfe7",
   "metadata": {},
   "outputs": [],
   "source": [
    "# altitude_mask = altitude_mask.save_result(format=\"NetCDF\")\n",
    "# job = altitude_mask.create_job()\n",
    "# job.start_and_wait()\n",
    "# job.download_results(outdir)"
   ]
  }
 ],
 "metadata": {
  "kernelspec": {
   "display_name": "Python 3 (ipykernel)",
   "language": "python",
   "name": "python3"
  },
  "language_info": {
   "codemirror_mode": {
    "name": "ipython",
    "version": 3
   },
   "file_extension": ".py",
   "mimetype": "text/x-python",
   "name": "python",
   "nbconvert_exporter": "python",
   "pygments_lexer": "ipython3",
   "version": "3.10.12"
  }
 },
 "nbformat": 4,
 "nbformat_minor": 5
}
